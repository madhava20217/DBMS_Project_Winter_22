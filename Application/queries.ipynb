{
 "cells": [
  {
   "cell_type": "code",
   "execution_count": 2,
   "metadata": {},
   "outputs": [],
   "source": [
    "import mysql.connector"
   ]
  },
  {
   "cell_type": "code",
   "execution_count": 3,
   "metadata": {},
   "outputs": [],
   "source": [
    "mydb = mysql.connector.Connect(host = \"localhost\",\n",
    "                            database = \"online_shopping\",\n",
    "                            user = \"root\",\n",
    "                            password = \"Madhava2207\")"
   ]
  },
  {
   "cell_type": "code",
   "execution_count": 4,
   "metadata": {},
   "outputs": [],
   "source": [
    "cursor = mydb.cursor(buffered = True)"
   ]
  },
  {
   "cell_type": "code",
   "execution_count": 4,
   "metadata": {},
   "outputs": [
    {
     "ename": "DataError",
     "evalue": "1136 (21S01): Column count doesn't match value count at row 1",
     "output_type": "error",
     "traceback": [
      "\u001b[1;31m---------------------------------------------------------------------------\u001b[0m",
      "\u001b[1;31mMySQLInterfaceError\u001b[0m                       Traceback (most recent call last)",
      "\u001b[1;32mc:\\programdata\\anaconda3\\lib\\site-packages\\mysql\\connector\\connection_cext.py\u001b[0m in \u001b[0;36mcmd_query\u001b[1;34m(self, query, raw, buffered, raw_as_string)\u001b[0m\n\u001b[0;32m    515\u001b[0m                 \u001b[0mquery\u001b[0m \u001b[1;33m=\u001b[0m \u001b[0mquery\u001b[0m\u001b[1;33m.\u001b[0m\u001b[0mencode\u001b[0m\u001b[1;33m(\u001b[0m\u001b[1;34m'utf-8'\u001b[0m\u001b[1;33m)\u001b[0m\u001b[1;33m\u001b[0m\u001b[1;33m\u001b[0m\u001b[0m\n\u001b[1;32m--> 516\u001b[1;33m             self._cmysql.query(query,\n\u001b[0m\u001b[0;32m    517\u001b[0m                                \u001b[0mraw\u001b[0m\u001b[1;33m=\u001b[0m\u001b[0mraw\u001b[0m\u001b[1;33m,\u001b[0m \u001b[0mbuffered\u001b[0m\u001b[1;33m=\u001b[0m\u001b[0mbuffered\u001b[0m\u001b[1;33m,\u001b[0m\u001b[1;33m\u001b[0m\u001b[1;33m\u001b[0m\u001b[0m\n",
      "\u001b[1;31mMySQLInterfaceError\u001b[0m: Column count doesn't match value count at row 1",
      "\nDuring handling of the above exception, another exception occurred:\n",
      "\u001b[1;31mDataError\u001b[0m                                 Traceback (most recent call last)",
      "\u001b[1;32m<ipython-input-4-5aff0826d8b9>\u001b[0m in \u001b[0;36m<module>\u001b[1;34m\u001b[0m\n\u001b[0;32m      1\u001b[0m \u001b[0mreg\u001b[0m \u001b[1;33m=\u001b[0m \u001b[1;34m\"insert into vendor values (%s, %s, %s, %s, %s, %s, %s)\"\u001b[0m\u001b[1;33m\u001b[0m\u001b[1;33m\u001b[0m\u001b[0m\n\u001b[0;32m      2\u001b[0m \u001b[1;33m\u001b[0m\u001b[0m\n\u001b[1;32m----> 3\u001b[1;33m \u001b[0mcursor\u001b[0m\u001b[1;33m.\u001b[0m\u001b[0mexecute\u001b[0m\u001b[1;33m(\u001b[0m\u001b[0mreg\u001b[0m\u001b[1;33m,\u001b[0m \u001b[1;33m[\u001b[0m\u001b[1;34m'test'\u001b[0m\u001b[1;33m,\u001b[0m \u001b[1;34m'test'\u001b[0m\u001b[1;33m,\u001b[0m \u001b[1;36m3434\u001b[0m\u001b[1;33m,\u001b[0m \u001b[1;34m'test'\u001b[0m\u001b[1;33m,\u001b[0m \u001b[1;36m334\u001b[0m\u001b[1;33m,\u001b[0m \u001b[1;34m'test@testmail'\u001b[0m\u001b[1;33m,\u001b[0m \u001b[1;34m'test'\u001b[0m\u001b[1;33m]\u001b[0m\u001b[1;33m)\u001b[0m\u001b[1;33m\u001b[0m\u001b[1;33m\u001b[0m\u001b[0m\n\u001b[0m",
      "\u001b[1;32mc:\\programdata\\anaconda3\\lib\\site-packages\\mysql\\connector\\cursor_cext.py\u001b[0m in \u001b[0;36mexecute\u001b[1;34m(self, operation, params, multi)\u001b[0m\n\u001b[0;32m    267\u001b[0m \u001b[1;33m\u001b[0m\u001b[0m\n\u001b[0;32m    268\u001b[0m         \u001b[1;32mtry\u001b[0m\u001b[1;33m:\u001b[0m\u001b[1;33m\u001b[0m\u001b[1;33m\u001b[0m\u001b[0m\n\u001b[1;32m--> 269\u001b[1;33m             result = self._cnx.cmd_query(stmt, raw=self._raw,\n\u001b[0m\u001b[0;32m    270\u001b[0m                                          \u001b[0mbuffered\u001b[0m\u001b[1;33m=\u001b[0m\u001b[0mself\u001b[0m\u001b[1;33m.\u001b[0m\u001b[0m_buffered\u001b[0m\u001b[1;33m,\u001b[0m\u001b[1;33m\u001b[0m\u001b[1;33m\u001b[0m\u001b[0m\n\u001b[0;32m    271\u001b[0m                                          raw_as_string=self._raw_as_string)\n",
      "\u001b[1;32mc:\\programdata\\anaconda3\\lib\\site-packages\\mysql\\connector\\connection_cext.py\u001b[0m in \u001b[0;36mcmd_query\u001b[1;34m(self, query, raw, buffered, raw_as_string)\u001b[0m\n\u001b[0;32m    519\u001b[0m                                query_attrs=self._query_attrs)\n\u001b[0;32m    520\u001b[0m         \u001b[1;32mexcept\u001b[0m \u001b[0mMySQLInterfaceError\u001b[0m \u001b[1;32mas\u001b[0m \u001b[0mexc\u001b[0m\u001b[1;33m:\u001b[0m\u001b[1;33m\u001b[0m\u001b[1;33m\u001b[0m\u001b[0m\n\u001b[1;32m--> 521\u001b[1;33m             raise errors.get_mysql_exception(exc.errno, msg=exc.msg,\n\u001b[0m\u001b[0;32m    522\u001b[0m                                              sqlstate=exc.sqlstate)\n\u001b[0;32m    523\u001b[0m         \u001b[1;32mexcept\u001b[0m \u001b[0mAttributeError\u001b[0m\u001b[1;33m:\u001b[0m\u001b[1;33m\u001b[0m\u001b[1;33m\u001b[0m\u001b[0m\n",
      "\u001b[1;31mDataError\u001b[0m: 1136 (21S01): Column count doesn't match value count at row 1"
     ]
    }
   ],
   "source": [
    "reg = \"insert into vendor values (%s, %s, %s, %s, %s, %s, %s)\"\n",
    "\n",
    "cursor.execute(reg, ['test', 'test', 3434, 'test', 334, 'test@testmail', 'test'])"
   ]
  },
  {
   "cell_type": "code",
   "execution_count": 6,
   "metadata": {},
   "outputs": [
    {
     "name": "stdout",
     "output_type": "stream",
     "text": [
      "0\n"
     ]
    },
    {
     "data": {
      "text/plain": [
       "list"
      ]
     },
     "execution_count": 6,
     "metadata": {},
     "output_type": "execute_result"
    }
   ],
   "source": [
    "#select customer_ID from email address\n",
    "select_customer_query = \"select * from Customer where email_address = %s and password = %s\"\n",
    "test_val_customer = []\n",
    "test_val_customer.append(\"testing@testing\")\n",
    "test_val_customer.append(\"testing\")\n",
    "\n",
    "cursor.execute(select_customer_query, test_val_customer)\n",
    "\n",
    "test_iterator = list(iter(cursor.fetchall()))\n",
    "\n",
    "print(len(test_iterator))\n",
    "\n",
    "for row in list(test_iterator):\n",
    "    print(row)\n",
    "\n",
    "type(test_iterator)\n"
   ]
  },
  {
   "cell_type": "code",
   "execution_count": 7,
   "metadata": {},
   "outputs": [],
   "source": [
    "#Add product to cart\n",
    "#Check if that product is already present\n",
    "check_if_product_exists_in_cart = \"select * from Shopping_Cart where exists(select * from Shopping_Cart where customer_ID = %s and Product_ID = %s)\"\n",
    "cursor.execute(check_if_product_exists_in_cart,[1,1])\n",
    "product_present = False\n",
    "if len(list(iter(cursor.fetchall()))) != 0:\n",
    "        product_present = True\n",
    "# print(product_present)\n",
    "if(product_present == False):\n",
    "    insert_product = \"Insert into Shopping_Cart values(%s,%s,%s)\"\n",
    "    cursor.execute(insert_product,[1,1,5])\n",
    "    # cursor_ret(cursor)\n",
    "if(product_present == True):\n",
    "    increase_product_quantity = \"Update Shopping_Cart set quantity = quantity + %s where customer_ID = %s and Product_ID = %s\"\n",
    "    cursor.execute(increase_product_quantity,[3,1,1])\n",
    "mydb.commit()\n",
    "    # cursor_ret(cursor)\n",
    "# for \n",
    "#add_product_to_cart = \"insert into \"count()len()list_cursorlist()cursorlist()cursorprint()test+i_iteratorlist()testi_iterator"
   ]
  },
  {
   "cell_type": "code",
   "execution_count": 8,
   "metadata": {},
   "outputs": [],
   "source": [
    "#insert_values_into_order = \"insert into Orders select %s,sum(price),avg(GST_percentage),avg(Discount_Percentage) from Product natural join Shopping_cart where Customer_id = %s\"\n",
    "# cursor.execute(insert_values_into_order,[100,1])\n",
    "# db.commit()\n"
   ]
  },
  {
   "cell_type": "code",
   "execution_count": 6,
   "metadata": {},
   "outputs": [
    {
     "name": "stdout",
     "output_type": "stream",
     "text": [
      "102\n"
     ]
    }
   ],
   "source": [
    "    chk_ven = \"select vendor_ID from vendor where email_address = %s limit 1\"\n",
    "    try:\n",
    "        cursor.execute(chk_ven, ['test@test'])\n",
    "        lst = list(iter(cursor.fetchall()))\n",
    "        print(lst[0][0])\n",
    "\n",
    "\n",
    "    except Error as e:\n",
    "        print(\"Error when returning vendor ID\")\n",
    "        print(e);"
   ]
  },
  {
   "cell_type": "code",
   "execution_count": 9,
   "metadata": {},
   "outputs": [
    {
     "name": "stdout",
     "output_type": "stream",
     "text": [
      "['temp1', 'temp2', 53, 'tempest', 'Temp_est', 103042, 'temp@tetmpest.ror8g', 'temper']\n"
     ]
    }
   ],
   "source": [
    "#sign up\n",
    "#requires first_name, last_name, house_number, locality, city, pincode, email_address, password\n",
    "\n",
    "register_statement = \"INSERT INTO Customer(First_name, Last_name, House_number, Locality, City, Pincode, email_address, password) values (%s, %s, %s, %s, %s, %s, %s, %s)\"\n",
    "\n",
    "temp_first_name = \"temp1\"\n",
    "temp_last_name = \"temp2\"\n",
    "temp_house_no = 53\n",
    "temp_locality = \"tempest\"\n",
    "temp_city = \"Temp_est\"\n",
    "temp_pincode = 103042\n",
    "temp_email_add = \"temp@tetmpest.ror8g\"\n",
    "temp_passwd = \"temper\"\n",
    "\n",
    "tup = [temp_first_name, temp_last_name, temp_house_no, temp_locality, temp_city, temp_pincode, temp_email_add, temp_passwd]\n",
    "\n",
    "print(tup)\n",
    "\n",
    "try:\n",
    "    cursor.execute(register_statement, tup)\n",
    "    mydb.commit()\n",
    "except mysql.connector.Error as e:\n",
    "    print(e)"
   ]
  },
  {
   "cell_type": "code",
   "execution_count": 10,
   "metadata": {},
   "outputs": [
    {
     "name": "stdout",
     "output_type": "stream",
     "text": [
      "WE FOUND IT!\n"
     ]
    }
   ],
   "source": [
    "#check valid email address \n",
    "check_valid_email = \"select customer_ID from customer where customer_id = %s\"\n",
    "temp_email_add = \"temp@tetmpest.ror8g\"\n",
    "\n",
    "try:\n",
    "    cursor.execute(check_valid_email, [temp_email_add])\n",
    "    if(len(list(iter(cursor.fetchall()))) != 0):\n",
    "        print(\"WE DIDN'T FIND IT\")\n",
    "    else:\n",
    "        print(\"WE FOUND IT!\")\n",
    "except:\n",
    "    pass\n",
    "\n",
    "\n",
    "        "
   ]
  },
  {
   "cell_type": "code",
   "execution_count": 11,
   "metadata": {},
   "outputs": [
    {
     "ename": "NameError",
     "evalue": "name 'order_id' is not defined",
     "output_type": "error",
     "traceback": [
      "\u001b[1;31m---------------------------------------------------------------------------\u001b[0m",
      "\u001b[1;31mNameError\u001b[0m                                 Traceback (most recent call last)",
      "\u001b[1;32m<ipython-input-11-6e895fca7157>\u001b[0m in \u001b[0;36m<module>\u001b[1;34m\u001b[0m\n\u001b[0;32m      7\u001b[0m \u001b[1;31m# print(order_id)\u001b[0m\u001b[1;33m\u001b[0m\u001b[1;33m\u001b[0m\u001b[1;33m\u001b[0m\u001b[0m\n\u001b[0;32m      8\u001b[0m \u001b[0minsert_values_into_order\u001b[0m \u001b[1;33m=\u001b[0m \u001b[1;34m\"insert into Orders select %s,sum(price),avg(GST_percentage),avg(Discount_Percentage) from Product natural join Shopping_cart where Customer_id = %s\"\u001b[0m\u001b[1;33m\u001b[0m\u001b[1;33m\u001b[0m\u001b[0m\n\u001b[1;32m----> 9\u001b[1;33m \u001b[0mcursor\u001b[0m\u001b[1;33m.\u001b[0m\u001b[0mexecute\u001b[0m\u001b[1;33m(\u001b[0m\u001b[0minsert_values_into_order\u001b[0m\u001b[1;33m,\u001b[0m\u001b[1;33m[\u001b[0m\u001b[0morder_id\u001b[0m\u001b[1;33m,\u001b[0m\u001b[0mcustomer_id\u001b[0m\u001b[1;33m]\u001b[0m\u001b[1;33m)\u001b[0m\u001b[1;33m\u001b[0m\u001b[1;33m\u001b[0m\u001b[0m\n\u001b[0m\u001b[0;32m     10\u001b[0m \u001b[1;33m\u001b[0m\u001b[0m\n\u001b[0;32m     11\u001b[0m \u001b[1;33m\u001b[0m\u001b[0m\n",
      "\u001b[1;31mNameError\u001b[0m: name 'order_id' is not defined"
     ]
    }
   ],
   "source": [
    "## cursor.execute(insert_values_into_order,[100,1])\n",
    "# db.commit()\n",
    "# Important to include this but insiayliaze only once somewhere order_id = 116\n",
    "product_id = 1\n",
    "customer_id = 1\n",
    "quantity = 5\n",
    "# print(order_id)\n",
    "insert_values_into_order = \"insert into Orders select %s,sum(price),avg(GST_percentage),avg(Discount_Percentage) from Product natural join Shopping_cart where Customer_id = %s\"\n",
    "cursor.execute(insert_values_into_order,[order_id,customer_id])\n",
    "\n",
    "\n",
    "\n",
    "extract_product_ids = \"select product_id from Shopping_Cart where Customer_id = %s\"\n",
    "cursor.execute(extract_product_ids,[customer_id])\n",
    "products_iterator = iter(cursor.fetchall())\n",
    "product_id_list = list(products_iterator)\n",
    "\n",
    "extract_quantity = \"select quantity from Shopping_Cart where Customer_id = %s\"\n",
    "cursor.execute(extract_quantity,[customer_id])\n",
    "quantity_iterator = iter(cursor.fetchall())\n",
    "quantity_id_list = list(quantity_iterator)\n",
    "\n",
    "for i in range(len(quantity_id_list)):\n",
    "    product = product_id_list[i][0]\n",
    "    quantity = quantity_id_list[i][0]\n",
    "    check_if_product_aready_ordered = \"select * from order_products where exists(select * from order_products where order_id = %s and Product_ID = %s)\"\n",
    "    cursor.execute(check_if_product_aready_ordered,[order_id,product])\n",
    "    product_ordered = False\n",
    "    if len(list(iter(cursor.fetchall()))) != 0:\n",
    "            product_ordered = True\n",
    "    # print(product_present)\n",
    "    if(product_ordered == False):\n",
    "        insert_product = \"Insert into order_products values(%s,%s,%s)\"\n",
    "        cursor.execute(insert_product,[order_id,product,quantity])\n",
    "        # cursor_ret(cursor)\n",
    "    if(product_ordered == True):\n",
    "        increase_product_quantity = \"Update order_products set quantity = quantity + %s where order_id = %s and Product_ID = %s\"\n",
    "        cursor.execute(increase_product_quantity,[order_id,product,quantity])\n",
    "order_id +=1\n",
    "mydb.commit()"
   ]
  },
  {
   "cell_type": "code",
   "execution_count": null,
   "metadata": {},
   "outputs": [
    {
     "ename": "SyntaxError",
     "evalue": "invalid syntax (<ipython-input-14-a5d3bcda0389>, line 2)",
     "output_type": "error",
     "traceback": [
      "\u001b[1;36m  File \u001b[1;32m\"<ipython-input-14-a5d3bcda0389>\"\u001b[1;36m, line \u001b[1;32m2\u001b[0m\n\u001b[1;33m    Order_ID numeric(30,0) primary key,\u001b[0m\n\u001b[1;37m             ^\u001b[0m\n\u001b[1;31mSyntaxError\u001b[0m\u001b[1;31m:\u001b[0m invalid syntax\n"
     ]
    }
   ],
   "source": [
    "# #After checkout has been done\n",
    "# Order_ID numeric(30,0) primary key, \n",
    "#     Payment_Method varchar(30), \n",
    "#     Transaction_Status boolean, \n",
    "#     transaction_time Timestamp, \n",
    "#     Customer_ID numeric(30,0), \n",
    "#     Coupon_Code varchar(30),\n",
    "# order_id = 116\n",
    "# #Payment_method = \"Paytm\"\n",
    "# Transaction_status = \"Delivered\"\n",
    "# transaction_time = \"2021:8:13 21:30:53\"\n",
    "# Customer_ID = 1\n",
    "# Coupon_Code = \"AAA\"\n",
    "# insert_into_transaction values(%s,%s,%s,%s,%s,%s)\n",
    "# cursor.execute(order_id,Payment_method,Transaction_status,transaction_time,Customer_ID,Coupon_Code)\n"
   ]
  },
  {
   "cell_type": "code",
   "execution_count": null,
   "metadata": {},
   "outputs": [
    {
     "name": "stdout",
     "output_type": "stream",
     "text": [
      "(50, 'Rice - Brown', Decimal('10'), '5 Barnett Ponikiew 288549', datetime.datetime(2021, 4, 8, 5, 57, 30), datetime.datetime(2021, 4, 27, 0, 52, 32), Decimal('74700.23'))\n",
      "74700.23\n"
     ]
    },
    {
     "data": {
      "text/plain": [
       "tuple"
      ]
     },
     "execution_count": 17,
     "metadata": {},
     "output_type": "execute_result"
    }
   ],
   "source": [
    "statement = \"select Order_ID, Product_Name, Quantity, Delivery_address, Transaction_Time, Delivery_Date, Total_Price from customer_order where customer_id = %s\"\n",
    "\n",
    "cursor.clear_attributes()\n",
    "cursor.execute(statement, [5])\n",
    "results = list(iter(cursor.fetchall()))\n",
    "\n",
    "print(results[0])\n",
    "statement = \"select Order_ID, Product_Name, Quantity, Delivery_address, Transaction_Time, Delivery_Date, Total_Price from customer_order where customer_id = %s\"\n",
    "\n",
    "cursor.clear_attributes()\n",
    "cursor.execute(statement, [5])\n",
    "results = list(iter(cursor.fetchall()))\n",
    "\n",
    "print(results[0])\n",
    "\n",
    "type(results[0])\n"
   ]
  },
  {
   "cell_type": "code",
   "execution_count": null,
   "metadata": {},
   "outputs": [
    {
     "name": "stdout",
     "output_type": "stream",
     "text": [
      "[(6, Decimal('5034'), None, Decimal('3040'))]\n"
     ]
    }
   ],
   "source": [
    "null_val = \"select * from warehouse where warehouse_id = 6\"\n",
    "\n",
    "cursor.execute(null_val)\n",
    "\n",
    "my_list = list(iter(cursor.fetchall()))\n",
    "\n",
    "print(my_list)\n",
    "\n",
    "my_list[2]"
   ]
  },
  {
   "cell_type": "code",
   "execution_count": null,
   "metadata": {},
   "outputs": [],
   "source": [
    "from datetime import datetime"
   ]
  },
  {
   "cell_type": "code",
   "execution_count": null,
   "metadata": {},
   "outputs": [
    {
     "data": {
      "text/plain": [
       "datetime.datetime(2022, 4, 14, 17, 44, 42, 216109)"
      ]
     },
     "execution_count": 35,
     "metadata": {},
     "output_type": "execute_result"
    }
   ],
   "source": [
    "datetime.now()"
   ]
  },
  {
   "cell_type": "code",
   "execution_count": null,
   "metadata": {},
   "outputs": [
    {
     "name": "stdout",
     "output_type": "stream",
     "text": [
      "(datetime.datetime(2021, 7, 18, 22, 49, 53),)\n",
      "(datetime.datetime(2021, 8, 13, 21, 30, 53),)\n",
      "(datetime.datetime(2021, 9, 30, 23, 56, 52),)\n",
      "(datetime.datetime(2021, 9, 9, 4, 23, 11),)\n",
      "(datetime.datetime(2021, 10, 6, 14, 9, 50),)\n",
      "(datetime.datetime(2021, 4, 17, 7, 34, 30),)\n",
      "(datetime.datetime(2021, 3, 28, 1, 52, 38),)\n",
      "(datetime.datetime(2021, 1, 19, 23, 25, 37),)\n",
      "(datetime.datetime(2021, 3, 8, 5, 46, 42),)\n",
      "(datetime.datetime(2021, 1, 18, 2, 42, 42),)\n",
      "(datetime.datetime(2021, 8, 25, 7, 17, 5),)\n",
      "(datetime.datetime(2021, 9, 12, 6, 51, 13),)\n",
      "(datetime.datetime(2021, 2, 9, 17, 45, 3),)\n",
      "(datetime.datetime(2021, 5, 4, 23, 14, 35),)\n",
      "(datetime.datetime(2021, 3, 12, 3, 14, 14),)\n",
      "(datetime.datetime(2021, 7, 19, 13, 50, 36),)\n",
      "(datetime.datetime(2021, 12, 7, 18, 47, 40),)\n",
      "(datetime.datetime(2021, 12, 19, 12, 31, 29),)\n",
      "(datetime.datetime(2021, 12, 5, 3, 19, 53),)\n",
      "(datetime.datetime(2021, 4, 23, 0, 27, 13),)\n",
      "(datetime.datetime(2021, 12, 10, 16, 32, 24),)\n",
      "(datetime.datetime(2021, 10, 7, 22, 49, 36),)\n",
      "(datetime.datetime(2021, 10, 26, 14, 53, 18),)\n",
      "(datetime.datetime(2021, 6, 15, 4, 15, 18),)\n",
      "(datetime.datetime(2021, 11, 28, 23, 7, 52),)\n",
      "(datetime.datetime(2021, 8, 3, 14, 38, 8),)\n",
      "(datetime.datetime(2021, 7, 10, 8, 41, 59),)\n",
      "(datetime.datetime(2021, 6, 17, 12, 4, 49),)\n",
      "(datetime.datetime(2021, 9, 14, 7, 14, 32),)\n",
      "(datetime.datetime(2021, 5, 6, 23, 9, 31),)\n",
      "(datetime.datetime(2021, 7, 24, 7, 31, 55),)\n",
      "(datetime.datetime(2021, 5, 7, 15, 33, 26),)\n",
      "(datetime.datetime(2021, 4, 13, 1, 35, 38),)\n",
      "(datetime.datetime(2021, 4, 25, 12, 50, 2),)\n",
      "(datetime.datetime(2021, 8, 1, 4, 36, 23),)\n",
      "(datetime.datetime(2021, 8, 17, 20, 5, 20),)\n",
      "(datetime.datetime(2021, 1, 23, 9, 0),)\n",
      "(datetime.datetime(2021, 9, 13, 22, 39, 53),)\n",
      "(datetime.datetime(2021, 1, 18, 3, 10, 36),)\n",
      "(datetime.datetime(2021, 1, 9, 1, 27, 1),)\n",
      "(datetime.datetime(2021, 1, 10, 17, 37, 50),)\n",
      "(datetime.datetime(2021, 2, 24, 13, 39, 31),)\n",
      "(datetime.datetime(2021, 1, 24, 5, 40, 28),)\n",
      "(datetime.datetime(2021, 11, 2, 7, 27, 11),)\n",
      "(datetime.datetime(2021, 1, 9, 10, 18, 21),)\n",
      "(datetime.datetime(2021, 9, 7, 10, 33, 25),)\n",
      "(datetime.datetime(2021, 5, 12, 16, 54, 14),)\n",
      "(datetime.datetime(2021, 10, 14, 5, 55, 32),)\n",
      "(datetime.datetime(2021, 3, 11, 18, 26, 47),)\n",
      "(datetime.datetime(2021, 4, 8, 5, 57, 30),)\n",
      "(datetime.datetime(2021, 4, 8, 5, 57, 30),)\n"
     ]
    }
   ],
   "source": [
    "cursor.execute(\"SELECT TRANSACTION_TIME FROM TRANSACTION\")\n",
    "\n",
    "for i in cursor.fetchall():\n",
    "    print(i)"
   ]
  },
  {
   "cell_type": "code",
   "execution_count": 25,
   "metadata": {},
   "outputs": [
    {
     "ename": "NameError",
     "evalue": "name 'pid' is not defined",
     "output_type": "error",
     "traceback": [
      "\u001b[1;31m---------------------------------------------------------------------------\u001b[0m",
      "\u001b[1;31mNameError\u001b[0m                                 Traceback (most recent call last)",
      "\u001b[1;32m<ipython-input-25-7cd88ada8030>\u001b[0m in \u001b[0;36m<module>\u001b[1;34m\u001b[0m\n\u001b[0;32m      1\u001b[0m \u001b[0mchoose_warehouse\u001b[0m \u001b[1;33m=\u001b[0m \u001b[1;34m\"select Warehouse_ID,Stocks from Stores where Product_ID = %s\"\u001b[0m\u001b[1;33m\u001b[0m\u001b[1;33m\u001b[0m\u001b[0m\n\u001b[1;32m----> 2\u001b[1;33m \u001b[0mcursor\u001b[0m\u001b[1;33m.\u001b[0m\u001b[0mexecute\u001b[0m\u001b[1;33m(\u001b[0m\u001b[0mchoose_warehouse\u001b[0m\u001b[1;33m,\u001b[0m\u001b[1;33m[\u001b[0m\u001b[0mpid\u001b[0m\u001b[1;33m]\u001b[0m\u001b[1;33m)\u001b[0m\u001b[1;33m\u001b[0m\u001b[1;33m\u001b[0m\u001b[0m\n\u001b[0m\u001b[0;32m      3\u001b[0m \u001b[0mwarehouse_avaialable_stock\u001b[0m \u001b[1;33m=\u001b[0m \u001b[0miter\u001b[0m\u001b[1;33m(\u001b[0m\u001b[0mcursor\u001b[0m\u001b[1;33m.\u001b[0m\u001b[0mfetchall\u001b[0m\u001b[1;33m(\u001b[0m\u001b[1;33m)\u001b[0m\u001b[1;33m)\u001b[0m\u001b[1;33m\u001b[0m\u001b[1;33m\u001b[0m\u001b[0m\n\u001b[0;32m      4\u001b[0m \u001b[0mwarehouse_stock_list\u001b[0m \u001b[1;33m=\u001b[0m \u001b[0mlist\u001b[0m\u001b[1;33m(\u001b[0m\u001b[0mwarehouse_avaialable_stock\u001b[0m\u001b[1;33m)\u001b[0m\u001b[1;33m\u001b[0m\u001b[1;33m\u001b[0m\u001b[0m\n\u001b[0;32m      5\u001b[0m \u001b[0mmax_stock_warehouse_id\u001b[0m \u001b[1;33m=\u001b[0m \u001b[1;33m-\u001b[0m\u001b[1;36m1\u001b[0m\u001b[1;33m\u001b[0m\u001b[1;33m\u001b[0m\u001b[0m\n",
      "\u001b[1;31mNameError\u001b[0m: name 'pid' is not defined"
     ]
    }
   ],
   "source": [
    "            choose_warehouse = \"select Warehouse_ID,Stocks from Stores where Product_ID = %s\"\n",
    "            cursor.execute(choose_warehouse,[pid])\n",
    "            warehouse_avaialable_stock = iter(cursor.fetchall())\n",
    "            warehouse_stock_list = list(warehouse_avaialable_stock)\n",
    "            max_stock_warehouse_id = -1\n",
    "            final_quantity_to_be_given = -1\n",
    "            # print(warehouse_stock_list)\n",
    "            #print(type(quantity))\n",
    "            if(range(len(warehouse_stock_list)) == 0):\n",
    "                flash('Product is out of stock', category='alert')\n",
    "            else:\n",
    "                for i in range(len(warehouse_stock_list)):\n",
    "                    if(warehouse_stock_list[i][1] > quantity):\n",
    "                        final_quantity_to_be_given = quantity\n",
    "                        break\n",
    "                    else:\n",
    "                        if(final_quantity_to_be_given < warehouse_stock_list[i][1]):\n",
    "                            final_quantity_to_be_given = warehouse_stock_list[i][1]\n",
    "                            max_stock_warehouse_id = warehouse_stock_list[i][0]"
   ]
  },
  {
   "cell_type": "code",
   "execution_count": 1,
   "metadata": {},
   "outputs": [
    {
     "ename": "SyntaxError",
     "evalue": "closing parenthesis ']' does not match opening parenthesis '(' (<ipython-input-1-1e6580647800>, line 8)",
     "output_type": "error",
     "traceback": [
      "\u001b[1;36m  File \u001b[1;32m\"<ipython-input-1-1e6580647800>\"\u001b[1;36m, line \u001b[1;32m8\u001b[0m\n\u001b[1;33m    cursor.execute(check_if_product_aready_there,product_id])\u001b[0m\n\u001b[1;37m                                                           ^\u001b[0m\n\u001b[1;31mSyntaxError\u001b[0m\u001b[1;31m:\u001b[0m closing parenthesis ']' does not match opening parenthesis '('\n"
     ]
    }
   ],
   "source": [
    "\n"
   ]
  },
  {
   "cell_type": "code",
   "execution_count": 6,
   "metadata": {},
   "outputs": [],
   "source": [
    "product_id = 1\n",
    "stocks = 5\n",
    "select_warehouse_with_minimum_stock = \"select Warehouse_ID from Stores where product_id = %s order by stocks limit 1;\"\n",
    "cursor.execute(select_warehouse_with_minimum_stock,[product_id])\n",
    "select_warehouse_iterator = iter(cursor.fetchall())\n",
    "warehouse_with_minimum_stock = list(select_warehouse_iterator)[0][0]\n",
    "check_if_product_aready_there = \"select 1 from Product where exists(select 1 from Product where Product_ID = %s)\"\n",
    "cursor.execute(check_if_product_aready_there,[product_id])\n",
    "product_there = False\n",
    "if len(list(iter(cursor.fetchall()))) != 0:\n",
    "        product_there = True\n",
    "if(product_there == False):\n",
    "    insert_product_into_product = \"Insert into Product values(%s,%s,%s,%s)\"\n",
    "    cursor.execute(insert_product_into_product,[Price,Product_name,Discount_Percentage,GST_percentage])\n",
    "    insert_product = \"Insert into Stores values(%s,%s,%s)\"\n",
    "    cursor.execute(insert_product,[warehouse_with_minimum_stock,product_id,stocks])\n",
    "    \n",
    "    # cursor_ret(cursor)\n",
    "if(product_there == True):\n",
    "    increase_product_quantity = \"Update Stores set Stocks = Stocks + %s where Product_ID = %s and Warehouse_id = %s\"\n",
    "    cursor.execute(increase_product_quantity,[stocks,product_id,warehouse_with_minimum_stock])\n",
    "mydb.commit()\n",
    "\n",
    "\n"
   ]
  }
 ],
 "metadata": {
  "interpreter": {
   "hash": "249688764a5a84225eac094645d04e39ce308215ea230f46da4636bc01cef90c"
  },
  "kernelspec": {
   "display_name": "Python 3.8.12 ('v-env')",
   "language": "python",
   "name": "python3"
  },
  "language_info": {
   "codemirror_mode": {
    "name": "ipython",
    "version": 3
   },
   "file_extension": ".py",
   "mimetype": "text/x-python",
   "name": "python",
   "nbconvert_exporter": "python",
   "pygments_lexer": "ipython3",
   "version": "3.8.8"
  },
  "orig_nbformat": 4
 },
 "nbformat": 4,
 "nbformat_minor": 2
}
